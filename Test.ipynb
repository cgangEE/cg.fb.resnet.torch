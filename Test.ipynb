{
 "metadata": {
  "language": "lua",
  "name": "",
  "signature": "sha256:0805ae58071daf3208506e05c4c417d6fd9f012a4a76c69746b6961de38bac18"
 },
 "nbformat": 3,
 "nbformat_minor": 0,
 "worksheets": [
  {
   "cells": [
    {
     "cell_type": "code",
     "collapsed": false,
     "input": [
      "require 'torch'\n",
      "require 'paths'\n",
      "require 'cudnn'\n",
      "require 'cunn'\n",
      "require 'image'\n",
      "require 'socket'\n",
      "model = torch.load('checkpointFlickrNist1/model_40.t7'):cuda()\n"
     ],
     "language": "python",
     "metadata": {},
     "outputs": [],
     "prompt_number": 4
    }
   ],
   "metadata": {}
  }
 ]
}